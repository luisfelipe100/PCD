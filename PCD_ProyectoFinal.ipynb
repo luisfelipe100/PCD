{
  "nbformat": 4,
  "nbformat_minor": 0,
  "metadata": {
    "colab": {
      "provenance": [],
      "authorship_tag": "ABX9TyNVCN1yX3PwEVv4FIwyptIN",
      "include_colab_link": true
    },
    "kernelspec": {
      "name": "python3",
      "display_name": "Python 3"
    },
    "language_info": {
      "name": "python"
    }
  },
  "cells": [
    {
      "cell_type": "markdown",
      "metadata": {
        "id": "view-in-github",
        "colab_type": "text"
      },
      "source": [
        "<a href=\"https://colab.research.google.com/github/luisfelipe100/PCD/blob/main/PCD_ProyectoFinal.ipynb\" target=\"_parent\"><img src=\"https://colab.research.google.com/assets/colab-badge.svg\" alt=\"Open In Colab\"/></a>"
      ]
    },
    {
      "cell_type": "code",
      "source": [
        "import pandas as pd\n",
        "\n",
        "# Read the .txt file into a DataFrame\n",
        "df = pd.read_csv(\"/content/BooksDatasetClean.csv\")\n",
        "\n",
        "# Display the first few rows\n",
        "print(df.head())\n"
      ],
      "metadata": {
        "colab": {
          "base_uri": "https://localhost:8080/"
        },
        "id": "iNkl5xFe9cK2",
        "outputId": "66cc7e68-3da5-467b-ea3a-22c7dc4fe903"
      },
      "execution_count": null,
      "outputs": [
        {
          "output_type": "stream",
          "name": "stdout",
          "text": [
            "                                               Title  \\\n",
            "0                                      Goat Brothers   \n",
            "1                                 The Missing Person   \n",
            "2                  Don't Eat Your Heart Out Cookbook   \n",
            "3  When Your Corporate Umbrella Begins to Leak: A...   \n",
            "4    Amy Spangler's Breastfeeding : A Parent's Guide   \n",
            "\n",
            "                    Authors Description              Category  \\\n",
            "0          By Colton, Larry         NaN     History , General   \n",
            "1        By Grumbach, Doris         NaN     Fiction , General   \n",
            "2  By Piscatella, Joseph C.         NaN   Cooking , Reference   \n",
            "3         By Davis, Paul D.         NaN                   NaN   \n",
            "4          By Spangler, Amy         NaN                   NaN   \n",
            "\n",
            "          Publisher  Price Starting With ($) Publish Date (Month)  \\\n",
            "0         Doubleday                     8.79              January   \n",
            "1  Putnam Pub Group                     4.99                March   \n",
            "2    Workman Pub Co                     4.99            September   \n",
            "3     Natl Pr Books                     4.99                April   \n",
            "4      Amy Spangler                     5.32             February   \n",
            "\n",
            "   Publish Date (Year)  \n",
            "0                 1993  \n",
            "1                 1981  \n",
            "2                 1983  \n",
            "3                 1991  \n",
            "4                 1997  \n"
          ]
        }
      ]
    },
    {
      "cell_type": "code",
      "source": [
        "# Tomar solamente Description y Category. Eliminar nulos.\n",
        "df = df[[\"Description\", \"Category\"]].dropna()"
      ],
      "metadata": {
        "id": "2AUrO5Vn_0Gz"
      },
      "execution_count": null,
      "outputs": []
    },
    {
      "cell_type": "code",
      "source": [
        "print(df.head())"
      ],
      "metadata": {
        "colab": {
          "base_uri": "https://localhost:8080/"
        },
        "id": "HfF3uxNMAYc3",
        "outputId": "ea0b9fc7-d2c5-4412-abf1-eacb3c73d840"
      },
      "execution_count": null,
      "outputs": [
        {
          "output_type": "stream",
          "name": "stdout",
          "text": [
            "                                          Description  \\\n",
            "7   Collects poems written by the eleven-year-old ...   \n",
            "8   The Russian author offers an affectionate chro...   \n",
            "10  A humor classic, this tongue-in-cheek diet pla...   \n",
            "11  Deadly germs sprayed in shopping malls, bomb-l...   \n",
            "13  \"The Bible and the social and moral consequenc...   \n",
            "\n",
            "                                        Category  \n",
            "7                               Poetry , General  \n",
            "8            Biography & Autobiography , General  \n",
            "10   Health & Fitness , Diet & Nutrition , Diets  \n",
            "11   Technology & Engineering , Military Science  \n",
            "13       Religion , Biblical Biography , General  \n"
          ]
        }
      ]
    },
    {
      "cell_type": "code",
      "source": [
        "# Extract the first category (before the first comma)\n",
        "df[\"First_Category\"] = df[\"Category\"].str.split(\" , \").str[0]\n",
        "print(df.head())"
      ],
      "metadata": {
        "colab": {
          "base_uri": "https://localhost:8080/"
        },
        "id": "leXRCLryBU_G",
        "outputId": "9400d62d-cba7-49d8-eaee-6404f36862d8"
      },
      "execution_count": null,
      "outputs": [
        {
          "output_type": "stream",
          "name": "stdout",
          "text": [
            "                                          Description  \\\n",
            "7   Collects poems written by the eleven-year-old ...   \n",
            "8   The Russian author offers an affectionate chro...   \n",
            "10  A humor classic, this tongue-in-cheek diet pla...   \n",
            "11  Deadly germs sprayed in shopping malls, bomb-l...   \n",
            "13  \"The Bible and the social and moral consequenc...   \n",
            "\n",
            "                                        Category              First_Category  \n",
            "7                               Poetry , General                      Poetry  \n",
            "8            Biography & Autobiography , General   Biography & Autobiography  \n",
            "10   Health & Fitness , Diet & Nutrition , Diets            Health & Fitness  \n",
            "11   Technology & Engineering , Military Science    Technology & Engineering  \n",
            "13       Religion , Biblical Biography , General                    Religion  \n"
          ]
        }
      ]
    },
    {
      "cell_type": "code",
      "source": [
        "df['First_Category'].value_counts()"
      ],
      "metadata": {
        "colab": {
          "base_uri": "https://localhost:8080/",
          "height": 1000
        },
        "id": "jupan3nO-b4G",
        "outputId": "af1b7305-a663-4a45-cf26-689a1d6498ff"
      },
      "execution_count": null,
      "outputs": [
        {
          "output_type": "execute_result",
          "data": {
            "text/plain": [
              "First_Category\n",
              "Fiction                            17721\n",
              "Juvenile Fiction                    6437\n",
              "Religion                            3461\n",
              "Cooking                             2890\n",
              "Juvenile Nonfiction                 2665\n",
              "Business & Economics                2538\n",
              "Biography & Autobiography           2119\n",
              "History                             2043\n",
              "Political Science                   1850\n",
              "Health & Fitness                    1587\n",
              "Young Adult Fiction                 1551\n",
              "Social Science                      1461\n",
              "Family & Relationships              1267\n",
              "Travel                              1184\n",
              "Self-help                           1087\n",
              "Sports & Recreation                 1071\n",
              "Humor                                976\n",
              "Reference                            855\n",
              "Science                              851\n",
              "Computers                            831\n",
              "House & Home                         806\n",
              "Psychology                           787\n",
              "Crafts & Hobbies                     675\n",
              "Pets                                 616\n",
              "Gardening                            584\n",
              "Medical                              567\n",
              "Education                            524\n",
              "Language Arts & Disciplines          502\n",
              "Art                                  462\n",
              "Young Adult Nonfiction               424\n",
              "Nature                               410\n",
              "Technology & Engineering             385\n",
              "Photography                          371\n",
              "Literary Criticism                   329\n",
              "Performing Arts                      328\n",
              "Body, Mind & Spirit                  322\n",
              "Poetry                               272\n",
              "Music                                257\n",
              "Philosophy                           245\n",
              "Study Aids                           236\n",
              "Drama                                215\n",
              "Law                                  183\n",
              "Literary Collections                 152\n",
              "Antiques & Collectibles              150\n",
              "Mathematics                          142\n",
              "Games                                138\n",
              "Foreign Language Study               125\n",
              "Architecture                         121\n",
              "Comics & Graphic Novels              120\n",
              "Games & Activities                   101\n",
              "Transportation                        77\n",
              "True Crime                            75\n",
              "Design                                70\n",
              "Bibles                                45\n",
              "NON-CLASSIFIABLE                      33\n",
              "Children's Music                       1\n",
              "Television: National Geographic        1\n",
              "Name: count, dtype: int64"
            ],
            "text/html": [
              "<div>\n",
              "<style scoped>\n",
              "    .dataframe tbody tr th:only-of-type {\n",
              "        vertical-align: middle;\n",
              "    }\n",
              "\n",
              "    .dataframe tbody tr th {\n",
              "        vertical-align: top;\n",
              "    }\n",
              "\n",
              "    .dataframe thead th {\n",
              "        text-align: right;\n",
              "    }\n",
              "</style>\n",
              "<table border=\"1\" class=\"dataframe\">\n",
              "  <thead>\n",
              "    <tr style=\"text-align: right;\">\n",
              "      <th></th>\n",
              "      <th>count</th>\n",
              "    </tr>\n",
              "    <tr>\n",
              "      <th>First_Category</th>\n",
              "      <th></th>\n",
              "    </tr>\n",
              "  </thead>\n",
              "  <tbody>\n",
              "    <tr>\n",
              "      <th>Fiction</th>\n",
              "      <td>17721</td>\n",
              "    </tr>\n",
              "    <tr>\n",
              "      <th>Juvenile Fiction</th>\n",
              "      <td>6437</td>\n",
              "    </tr>\n",
              "    <tr>\n",
              "      <th>Religion</th>\n",
              "      <td>3461</td>\n",
              "    </tr>\n",
              "    <tr>\n",
              "      <th>Cooking</th>\n",
              "      <td>2890</td>\n",
              "    </tr>\n",
              "    <tr>\n",
              "      <th>Juvenile Nonfiction</th>\n",
              "      <td>2665</td>\n",
              "    </tr>\n",
              "    <tr>\n",
              "      <th>Business &amp; Economics</th>\n",
              "      <td>2538</td>\n",
              "    </tr>\n",
              "    <tr>\n",
              "      <th>Biography &amp; Autobiography</th>\n",
              "      <td>2119</td>\n",
              "    </tr>\n",
              "    <tr>\n",
              "      <th>History</th>\n",
              "      <td>2043</td>\n",
              "    </tr>\n",
              "    <tr>\n",
              "      <th>Political Science</th>\n",
              "      <td>1850</td>\n",
              "    </tr>\n",
              "    <tr>\n",
              "      <th>Health &amp; Fitness</th>\n",
              "      <td>1587</td>\n",
              "    </tr>\n",
              "    <tr>\n",
              "      <th>Young Adult Fiction</th>\n",
              "      <td>1551</td>\n",
              "    </tr>\n",
              "    <tr>\n",
              "      <th>Social Science</th>\n",
              "      <td>1461</td>\n",
              "    </tr>\n",
              "    <tr>\n",
              "      <th>Family &amp; Relationships</th>\n",
              "      <td>1267</td>\n",
              "    </tr>\n",
              "    <tr>\n",
              "      <th>Travel</th>\n",
              "      <td>1184</td>\n",
              "    </tr>\n",
              "    <tr>\n",
              "      <th>Self-help</th>\n",
              "      <td>1087</td>\n",
              "    </tr>\n",
              "    <tr>\n",
              "      <th>Sports &amp; Recreation</th>\n",
              "      <td>1071</td>\n",
              "    </tr>\n",
              "    <tr>\n",
              "      <th>Humor</th>\n",
              "      <td>976</td>\n",
              "    </tr>\n",
              "    <tr>\n",
              "      <th>Reference</th>\n",
              "      <td>855</td>\n",
              "    </tr>\n",
              "    <tr>\n",
              "      <th>Science</th>\n",
              "      <td>851</td>\n",
              "    </tr>\n",
              "    <tr>\n",
              "      <th>Computers</th>\n",
              "      <td>831</td>\n",
              "    </tr>\n",
              "    <tr>\n",
              "      <th>House &amp; Home</th>\n",
              "      <td>806</td>\n",
              "    </tr>\n",
              "    <tr>\n",
              "      <th>Psychology</th>\n",
              "      <td>787</td>\n",
              "    </tr>\n",
              "    <tr>\n",
              "      <th>Crafts &amp; Hobbies</th>\n",
              "      <td>675</td>\n",
              "    </tr>\n",
              "    <tr>\n",
              "      <th>Pets</th>\n",
              "      <td>616</td>\n",
              "    </tr>\n",
              "    <tr>\n",
              "      <th>Gardening</th>\n",
              "      <td>584</td>\n",
              "    </tr>\n",
              "    <tr>\n",
              "      <th>Medical</th>\n",
              "      <td>567</td>\n",
              "    </tr>\n",
              "    <tr>\n",
              "      <th>Education</th>\n",
              "      <td>524</td>\n",
              "    </tr>\n",
              "    <tr>\n",
              "      <th>Language Arts &amp; Disciplines</th>\n",
              "      <td>502</td>\n",
              "    </tr>\n",
              "    <tr>\n",
              "      <th>Art</th>\n",
              "      <td>462</td>\n",
              "    </tr>\n",
              "    <tr>\n",
              "      <th>Young Adult Nonfiction</th>\n",
              "      <td>424</td>\n",
              "    </tr>\n",
              "    <tr>\n",
              "      <th>Nature</th>\n",
              "      <td>410</td>\n",
              "    </tr>\n",
              "    <tr>\n",
              "      <th>Technology &amp; Engineering</th>\n",
              "      <td>385</td>\n",
              "    </tr>\n",
              "    <tr>\n",
              "      <th>Photography</th>\n",
              "      <td>371</td>\n",
              "    </tr>\n",
              "    <tr>\n",
              "      <th>Literary Criticism</th>\n",
              "      <td>329</td>\n",
              "    </tr>\n",
              "    <tr>\n",
              "      <th>Performing Arts</th>\n",
              "      <td>328</td>\n",
              "    </tr>\n",
              "    <tr>\n",
              "      <th>Body, Mind &amp; Spirit</th>\n",
              "      <td>322</td>\n",
              "    </tr>\n",
              "    <tr>\n",
              "      <th>Poetry</th>\n",
              "      <td>272</td>\n",
              "    </tr>\n",
              "    <tr>\n",
              "      <th>Music</th>\n",
              "      <td>257</td>\n",
              "    </tr>\n",
              "    <tr>\n",
              "      <th>Philosophy</th>\n",
              "      <td>245</td>\n",
              "    </tr>\n",
              "    <tr>\n",
              "      <th>Study Aids</th>\n",
              "      <td>236</td>\n",
              "    </tr>\n",
              "    <tr>\n",
              "      <th>Drama</th>\n",
              "      <td>215</td>\n",
              "    </tr>\n",
              "    <tr>\n",
              "      <th>Law</th>\n",
              "      <td>183</td>\n",
              "    </tr>\n",
              "    <tr>\n",
              "      <th>Literary Collections</th>\n",
              "      <td>152</td>\n",
              "    </tr>\n",
              "    <tr>\n",
              "      <th>Antiques &amp; Collectibles</th>\n",
              "      <td>150</td>\n",
              "    </tr>\n",
              "    <tr>\n",
              "      <th>Mathematics</th>\n",
              "      <td>142</td>\n",
              "    </tr>\n",
              "    <tr>\n",
              "      <th>Games</th>\n",
              "      <td>138</td>\n",
              "    </tr>\n",
              "    <tr>\n",
              "      <th>Foreign Language Study</th>\n",
              "      <td>125</td>\n",
              "    </tr>\n",
              "    <tr>\n",
              "      <th>Architecture</th>\n",
              "      <td>121</td>\n",
              "    </tr>\n",
              "    <tr>\n",
              "      <th>Comics &amp; Graphic Novels</th>\n",
              "      <td>120</td>\n",
              "    </tr>\n",
              "    <tr>\n",
              "      <th>Games &amp; Activities</th>\n",
              "      <td>101</td>\n",
              "    </tr>\n",
              "    <tr>\n",
              "      <th>Transportation</th>\n",
              "      <td>77</td>\n",
              "    </tr>\n",
              "    <tr>\n",
              "      <th>True Crime</th>\n",
              "      <td>75</td>\n",
              "    </tr>\n",
              "    <tr>\n",
              "      <th>Design</th>\n",
              "      <td>70</td>\n",
              "    </tr>\n",
              "    <tr>\n",
              "      <th>Bibles</th>\n",
              "      <td>45</td>\n",
              "    </tr>\n",
              "    <tr>\n",
              "      <th>NON-CLASSIFIABLE</th>\n",
              "      <td>33</td>\n",
              "    </tr>\n",
              "    <tr>\n",
              "      <th>Children's Music</th>\n",
              "      <td>1</td>\n",
              "    </tr>\n",
              "    <tr>\n",
              "      <th>Television: National Geographic</th>\n",
              "      <td>1</td>\n",
              "    </tr>\n",
              "  </tbody>\n",
              "</table>\n",
              "</div><br><label><b>dtype:</b> int64</label>"
            ]
          },
          "metadata": {},
          "execution_count": 6
        }
      ]
    },
    {
      "cell_type": "code",
      "source": [
        "# Keep only categories with more than 1000 count.\n",
        "df = df[df['First_Category'].map(df['First_Category'].value_counts()) > 1000]"
      ],
      "metadata": {
        "id": "fIu6DvEEIooT"
      },
      "execution_count": null,
      "outputs": []
    },
    {
      "cell_type": "code",
      "source": [
        "df[\"First_Category\"] = df[\"First_Category\"].str.strip()  # Remove leading/trailing spaces\n",
        "\n",
        "# Remove Fiction categories.\n",
        "df = df[~df[\"First_Category\"].isin([\"Fiction\", \"Juvenile Fiction\", \"Young Adult Fiction\", \"Juvenile Nonfiction\"])]\n"
      ],
      "metadata": {
        "id": "L29RJjB9JdcM"
      },
      "execution_count": null,
      "outputs": []
    },
    {
      "cell_type": "code",
      "source": [
        "import matplotlib.pyplot as plt\n",
        "\n",
        "# Get the frequency table\n",
        "class_counts = df['First_Category'].value_counts()\n",
        "\n",
        "# Plot the bar chart\n",
        "\n",
        "class_counts.plot(kind='bar', color='skyblue', edgecolor='black')\n",
        "\n",
        "# Customize the plot\n",
        "plt.xlabel(\"Clase\")\n",
        "plt.ylabel(\"Conteo\")\n",
        "plt.xticks(rotation=90)  # Rotate x labels for readability\n",
        "plt.grid(axis=\"y\", linestyle=\"--\", alpha=0.7)\n",
        "\n",
        "# Show the plot\n",
        "plt.show()\n"
      ],
      "metadata": {
        "colab": {
          "base_uri": "https://localhost:8080/",
          "height": 629
        },
        "id": "dgRDEjuj_vX0",
        "outputId": "f0b19003-31fb-4547-bdf4-77853d241fad"
      },
      "execution_count": null,
      "outputs": [
        {
          "output_type": "display_data",
          "data": {
            "text/plain": [
              "<Figure size 640x480 with 1 Axes>"
            ],
            "image/png": "[encoded data removed]"
          },
          "metadata": {}
        }
      ]
    },
    {
      "cell_type": "code",
      "execution_count": null,
      "metadata": {
        "id": "e8JiVK6HpQhJ"
      },
      "outputs": [],
      "source": [
        "X, y = df['Description'], df['First_Category']"
      ]
    },
    {
      "cell_type": "code",
      "source": [
        "import nltk\n",
        "from nltk.tokenize import word_tokenize\n",
        "from nltk.corpus import stopwords\n",
        "from nltk.stem import PorterStemmer\n",
        "\n",
        "nltk.download(\"punkt_tab\")\n",
        "nltk.download(\"stopwords\")\n",
        "\n",
        "def preprocess_text(text):\n",
        "    tokens = word_tokenize(text)\n",
        "    stop_words = set(stopwords.words(\"english\"))\n",
        "    filtered_tokens = [token.lower() for token in tokens if token.isalpha() and token.lower() not in stop_words]\n",
        "    stemmer = PorterStemmer()\n",
        "    stemmed_tokens = [stemmer.stem(token) for token in filtered_tokens]\n",
        "    return \" \".join(stemmed_tokens)\n",
        "\n",
        "X_preprocessed = [preprocess_text(text) for text in X]"
      ],
      "metadata": {
        "colab": {
          "base_uri": "https://localhost:8080/"
        },
        "id": "ZrU0VGixpgPq",
        "outputId": "077f1f0f-78ad-4bfd-8944-a381872e3ae9"
      },
      "execution_count": null,
      "outputs": [
        {
          "output_type": "stream",
          "name": "stderr",
          "text": [
            "[nltk_data] Downloading package punkt_tab to /root/nltk_data...\n",
            "[nltk_data]   Package punkt_tab is already up-to-date!\n",
            "[nltk_data] Downloading package stopwords to /root/nltk_data...\n",
            "[nltk_data]   Package stopwords is already up-to-date!\n"
          ]
        }
      ]
    },
    {
      "cell_type": "code",
      "source": [
        "from sklearn import model_selection, preprocessing, linear_model, naive_bayes, metrics, svm\n",
        "from sklearn.feature_extraction.text import TfidfVectorizer, CountVectorizer\n",
        "\n",
        "# split the dataset into training and validation datasets\n",
        "train_x, valid_x, train_y, valid_y = model_selection.train_test_split(X_preprocessed, y)\n",
        "\n",
        "# label encode the target variable\n",
        "encoder = preprocessing.LabelEncoder()\n",
        "train_y = encoder.fit_transform(train_y)\n",
        "valid_y = encoder.fit_transform(valid_y)\n"
      ],
      "metadata": {
        "id": "xkL60x1vbQNf"
      },
      "execution_count": null,
      "outputs": []
    },
    {
      "cell_type": "code",
      "source": [
        "# create a count vectorizer object\n",
        "count_vect = CountVectorizer(analyzer='word', token_pattern=r'\\w{1,}')\n",
        "count_vect.fit(X_preprocessed)\n",
        "\n",
        "# transform the training and validation data using count vectorizer object\n",
        "xtrain_count =  count_vect.transform(train_x)\n",
        "xvalid_count =  count_vect.transform(valid_x)"
      ],
      "metadata": {
        "id": "G0q2erzZecrb"
      },
      "execution_count": null,
      "outputs": []
    },
    {
      "cell_type": "code",
      "source": [
        "# word level tf-idf\n",
        "tfidf_vect = TfidfVectorizer(analyzer='word', token_pattern=r'\\w{1,}', max_features=5000)\n",
        "tfidf_vect.fit(X_preprocessed)\n",
        "xtrain_tfidf =  tfidf_vect.transform(train_x)\n",
        "xvalid_tfidf =  tfidf_vect.transform(valid_x)\n",
        "\n",
        "# ngram level tf-idf\n",
        "tfidf_vect_ngram = TfidfVectorizer(analyzer='word', token_pattern=r'\\w{1,}', ngram_range=(2,3), max_features=5000)\n",
        "tfidf_vect_ngram.fit(X_preprocessed)\n",
        "xtrain_tfidf_ngram =  tfidf_vect_ngram.transform(train_x)\n",
        "xvalid_tfidf_ngram =  tfidf_vect_ngram.transform(valid_x)\n",
        "\n",
        "# characters level tf-idf\n",
        "tfidf_vect_ngram_chars = TfidfVectorizer(analyzer='char', token_pattern=r'\\w{1,}', ngram_range=(2,3), max_features=5000)\n",
        "tfidf_vect_ngram_chars.fit(X_preprocessed)\n",
        "xtrain_tfidf_ngram_chars =  tfidf_vect_ngram_chars.transform(train_x)\n",
        "xvalid_tfidf_ngram_chars =  tfidf_vect_ngram_chars.transform(valid_x)"
      ],
      "metadata": {
        "colab": {
          "base_uri": "https://localhost:8080/"
        },
        "id": "cojfgeepetjH",
        "outputId": "211861f0-8d61-44fd-f0ce-ddd403adbef1"
      },
      "execution_count": null,
      "outputs": [
        {
          "output_type": "stream",
          "name": "stderr",
          "text": [
            "/usr/local/lib/python3.11/dist-packages/sklearn/feature_extraction/text.py:547: UserWarning: The parameter 'token_pattern' will not be used since 'analyzer' != 'word'\n",
            "  warnings.warn(\n"
          ]
        }
      ]
    },
    {
      "cell_type": "code",
      "source": [
        "def train_model(classifier, feature_vector_train, label, feature_vector_valid, is_neural_net=False):\n",
        "    # fit the training dataset on the classifier\n",
        "    classifier.fit(feature_vector_train, label)\n",
        "\n",
        "    # predict the labels on validation dataset\n",
        "    predictions = classifier.predict(feature_vector_valid)\n",
        "\n",
        "    if is_neural_net:\n",
        "        predictions = predictions.argmax(axis=-1)\n",
        "\n",
        "    return metrics.accuracy_score(predictions, valid_y)"
      ],
      "metadata": {
        "id": "Wzcs-s9DgSXv"
      },
      "execution_count": null,
      "outputs": []
    },
    {
      "cell_type": "code",
      "source": [
        "# Naive Bayes on Count Vectors\n",
        "accuracy = train_model(naive_bayes.MultinomialNB(), xtrain_count, train_y, xvalid_count)\n",
        "print(\"NB, Count Vectors: \", accuracy)\n",
        "\n",
        "# Naive Bayes on Word Level TF IDF Vectors\n",
        "accuracy = train_model(naive_bayes.MultinomialNB(), xtrain_tfidf, train_y, xvalid_tfidf)\n",
        "print(\"NB, WordLevel TF-IDF: \", accuracy)\n",
        "\n",
        "# Naive Bayes on Ngram Level TF IDF Vectors\n",
        "accuracy = train_model(naive_bayes.MultinomialNB(), xtrain_tfidf_ngram, train_y, xvalid_tfidf_ngram)\n",
        "print(\"NB, N-Gram Vectors: \", accuracy)\n",
        "\n",
        "# Naive Bayes on Character Level TF IDF Vectors\n",
        "accuracy = train_model(naive_bayes.MultinomialNB(), xtrain_tfidf_ngram_chars, train_y, xvalid_tfidf_ngram_chars)\n",
        "print(\"NB, CharLevel Vectors: \", accuracy)\n"
      ],
      "metadata": {
        "colab": {
          "base_uri": "https://localhost:8080/"
        },
        "id": "Z4_pCGfjgTq2",
        "outputId": "678e015e-02f1-4f00-c252-381751d64129"
      },
      "execution_count": null,
      "outputs": [
        {
          "output_type": "stream",
          "name": "stdout",
          "text": [
            "NB, Count Vectors:  0.7367021276595744\n",
            "NB, WordLevel TF-IDF:  0.7180851063829787\n",
            "NB, N-Gram Vectors:  0.5914893617021276\n",
            "NB, CharLevel Vectors:  0.6602836879432624\n"
          ]
        }
      ]
    },
    {
      "cell_type": "code",
      "source": [
        "# Linear Classifier on Count Vectors\n",
        "accuracy = train_model(linear_model.LogisticRegression(), xtrain_count, train_y, xvalid_count)\n",
        "print(\"LR, Count Vectors: \", accuracy)\n",
        "\n",
        "# Linear Classifier on Word Level TF IDF Vectors\n",
        "accuracy = train_model(linear_model.LogisticRegression(), xtrain_tfidf, train_y, xvalid_tfidf)\n",
        "print(\"LR, WordLevel TF-IDF: \", accuracy)\n",
        "\n",
        "# Linear Classifier on Ngram Level TF IDF Vectors\n",
        "accuracy = train_model(linear_model.LogisticRegression(), xtrain_tfidf_ngram, train_y, xvalid_tfidf_ngram)\n",
        "print(\"LR, N-Gram Vectors: \", accuracy)\n",
        "\n",
        "# Linear Classifier on Character Level TF IDF Vectors\n",
        "accuracy = train_model(linear_model.LogisticRegression(), xtrain_tfidf_ngram_chars, train_y, xvalid_tfidf_ngram_chars)\n",
        "print(\"LR, CharLevel Vectors: \", accuracy)\n"
      ],
      "metadata": {
        "colab": {
          "base_uri": "https://localhost:8080/"
        },
        "id": "gsIxlHQH0Z-5",
        "outputId": "f99c6645-eef4-4f1e-8103-44f39ecfded3"
      },
      "execution_count": null,
      "outputs": [
        {
          "output_type": "stream",
          "name": "stdout",
          "text": [
            "LR, Count Vectors:  0.7141843971631205\n",
            "LR, WordLevel TF-IDF:  0.7489361702127659\n",
            "LR, N-Gram Vectors:  0.600354609929078\n",
            "LR, CharLevel Vectors:  0.723758865248227\n"
          ]
        }
      ]
    },
    {
      "cell_type": "code",
      "source": [
        "# SVM on Ngram Level TF IDF Vectors\n",
        "accuracy = train_model(svm.SVC(), xtrain_tfidf_ngram, train_y, xvalid_tfidf_ngram)\n",
        "print(\"SVM, N-Gram Vectors: \", accuracy)\n"
      ],
      "metadata": {
        "colab": {
          "base_uri": "https://localhost:8080/"
        },
        "id": "_cn92EYZ1M7B",
        "outputId": "14e5f431-1d09-44d1-995b-4b31531f6ae0"
      },
      "execution_count": null,
      "outputs": [
        {
          "output_type": "stream",
          "name": "stdout",
          "text": [
            "SVM, N-Gram Vectors:  0.5796099290780142\n"
          ]
        }
      ]
    },
    {
      "cell_type": "code",
      "source": [
        "# SVM on Count Vectors\n",
        "accuracy = train_model(svm.SVC(), xtrain_count, train_y, xvalid_count)\n",
        "print(\"SVM, Count Vectors: \", accuracy)"
      ],
      "metadata": {
        "colab": {
          "base_uri": "https://localhost:8080/"
        },
        "id": "oXJxEtaE22KW",
        "outputId": "c6621a61-648d-45d3-ea04-e6374e6ab270"
      },
      "execution_count": null,
      "outputs": [
        {
          "output_type": "stream",
          "name": "stdout",
          "text": [
            "SVM, Count Vectors:  0.7187943262411347\n"
          ]
        }
      ]
    },
    {
      "cell_type": "code",
      "source": [
        "# SVM on Word Level TF IDF Vectors\n",
        "accuracy = train_model(svm.SVC(), xtrain_tfidf, train_y, xvalid_tfidf)\n",
        "print(\"SVM, WordLevel TF-IDF: \", accuracy)"
      ],
      "metadata": {
        "colab": {
          "base_uri": "https://localhost:8080/"
        },
        "id": "59T21v9U26VQ",
        "outputId": "bfdcdca9-15f2-47a8-cee3-f0b1dfe2249f"
      },
      "execution_count": null,
      "outputs": [
        {
          "output_type": "stream",
          "name": "stdout",
          "text": [
            "SVM, WordLevel TF-IDF:  0.7547872340425532\n"
          ]
        }
      ]
    },
    {
      "cell_type": "code",
      "source": [
        "# SVM on Character Level TF IDF Vectors\n",
        "accuracy = train_model(svm.SVC(), xtrain_tfidf_ngram_chars, train_y, xvalid_tfidf_ngram_chars)\n",
        "print(\"SVM, CharLevel Vectors: \", accuracy)"
      ],
      "metadata": {
        "colab": {
          "base_uri": "https://localhost:8080/"
        },
        "id": "OtRgvTDY27Sv",
        "outputId": "abac771f-797d-4024-fe5d-c40ad71f5fb3"
      },
      "execution_count": null,
      "outputs": [
        {
          "output_type": "stream",
          "name": "stdout",
          "text": [
            "SVM, CharLevel Vectors:  0.7322695035460993\n"
          ]
        }
      ]
    },
    {
      "cell_type": "code",
      "source": [
        "import joblib\n",
        "\n",
        "svm_model = svm.SVC(probability=True)  # Habilita la estimación de probabilidades\n",
        "svm_model.fit(xtrain_tfidf, train_y)\n",
        "\n",
        "# Guardar el modelo con probabilidades activadas\n",
        "joblib.dump(svm_model, \"modelo_svm.pkl\")\n",
        "\n",
        "joblib.dump(tfidf_vect, \"tfidf_vectorizer.pkl\")  # Guarda el vectorizador\n",
        "joblib.dump(encoder, \"label_encoder.pkl\")  # Guarda el codificador de etiquetas\n",
        "\n",
        "print(\"Modelo guardado exitosamente.\")\n"
      ],
      "metadata": {
        "colab": {
          "base_uri": "https://localhost:8080/"
        },
        "id": "BTvF8p7JfyJY",
        "outputId": "c20323d8-effd-46d1-b629-7c3075a9e5b1"
      },
      "execution_count": null,
      "outputs": [
        {
          "output_type": "stream",
          "name": "stdout",
          "text": [
            "Modelo guardado exitosamente.\n"
          ]
        }
      ]
    }
  ]
}